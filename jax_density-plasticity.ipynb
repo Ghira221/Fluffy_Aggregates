{
 "cells": [
  {
   "cell_type": "code",
   "execution_count": 1,
   "metadata": {},
   "outputs": [
    {
     "name": "stdout",
     "output_type": "stream",
     "text": [
      "       __       ___      ___   ___                _______  _______ .___  ___. \n",
      "      |  |     /   \\     \\  \\ /  /               |   ____||   ____||   \\/   | \n",
      "      |  |    /  ^  \\     \\  V  /      ______    |  |__   |  |__   |  \\  /  | \n",
      ".--.  |  |   /  /_\\  \\     >   <      |______|   |   __|  |   __|  |  |\\/|  | \n",
      "|  `--'  |  /  _____  \\   /  .  \\                |  |     |  |____ |  |  |  | \n",
      " \\______/  /__/     \\__\\ /__/ \\__\\               |__|     |_______||__|  |__| \n",
      "                                                                              \n",
      "\n"
     ]
    }
   ],
   "source": [
    "# Import some useful modules.\n",
    "import jax\n",
    "import jax.numpy as np\n",
    "import os\n",
    "import matplotlib.pyplot as plt\n",
    "from scipy.spatial import ConvexHull\n",
    "#from '/units_constants.py' import Conversion_Factors as cf\n",
    "\n",
    "\n",
    "\n",
    "# Import JAX-FEM specific modules.\n",
    "from jax_fem.problem import Problem\n",
    "from jax_fem.solver import solver\n",
    "from jax_fem.utils import save_sol\n",
    "from jax_fem.generate_mesh import box_mesh_gmsh, get_meshio_cell_type, Mesh\n"
   ]
  },
  {
   "cell_type": "markdown",
   "metadata": {},
   "source": [
    "### Constitutive relationship\n",
    "We're using SI units I have decided. \n",
    "Note to self: make unit conversion class or copy it from the 'Oumuamua code.\n",
    "\n",
    "17/02/2025: Tested the limits of compression for sim 1. Crashed for 15%, but interestingly only once we go back up again after compressing fully to 15%. So I guess this is where the 'the cube has changed so the material responds differently now, especially to pulling'  comes into play. Rather than puling, I should unload/release. One more run with 20%, and let's see then.\n",
    "\n",
    "And now it fails at 13%, in the compression step, for 100 iterations (in the loop). So the failing is very much a numerical thing, because why else would 15% compression work for one sim and not for another, when the only difference is step size? I did this for params1 (Y = 1, nu = 0.05, E = 100). \n",
    "\n",
    "19/02/2025: FOund out that stepsize matters in the PETSC_solver, and has nothing to do with $\\nu$.Then found out that using jax_solver or umfpack_solver instead lets literally everything converge at 20%, for both stepsizes. So it was the solver :P, at least in part, and defo something numerical.\n",
    "\n",
    "Also, try different solvers? So I guess the main takeaway is that the convergence issue should be looked at very carefully, and not automatically be attributed to the physics and very much also to the numerics."
   ]
  },
  {
   "cell_type": "markdown",
   "metadata": {},
   "source": [
    "## Problem class"
   ]
  },
  {
   "cell_type": "code",
   "execution_count": 2,
   "metadata": {},
   "outputs": [],
   "source": [
    "class DensityError(Exception):\n",
    "    pass\n",
    "\n",
    "class Plasticity(Problem):\n",
    "\n",
    "    def custom_init(self, dens, E_factor, nu):\n",
    "        \"\"\"_summary_\n",
    "\n",
    "        Args:\n",
    "            density (list, optional): the density field. Defaults to [0.0001]. Don't go over \n",
    "        \"\"\"\n",
    "        # ceate objects for r\n",
    "        self.fe = self.fes[0]\n",
    "        self.epsilons_old = np.zeros((len(self.fe.cells), self.fe.num_quads, self.fe.vec, self.dim))\n",
    "        self.sigmas_old = np.zeros_like(self.epsilons_old)\n",
    "        # not dens[0], but dens. Otherwise you get an array of 8 (so 1 cell) --> need to understand the use of additional args. and such properly. \n",
    "        self.density = dens \n",
    "        #print(self.density.shape)\n",
    "\n",
    "        # these are things that can change throughout the sim\n",
    "        self.internal_vars = [self.sigmas_old, self.epsilons_old, self.density]\n",
    "\n",
    "        # elasticity coefficients\n",
    "        self.E_factor = E_factor\n",
    "        self.nu = nu\n",
    "\n",
    "\n",
    "    def get_tensor_map(self):\n",
    "        # meaning: get the tensors you want to solve for.\n",
    "        # we throw away the strain and density\n",
    "        _, stress_return_map = self.get_maps()\n",
    "        return stress_return_map\n",
    "    \n",
    "\n",
    "    def get_maps(self):\n",
    "        def safe_sqrt(x):  \n",
    "            # np.sqrt is not differentiable at 0\n",
    "            safe_x = np.where(x > 0., np.sqrt(x), 0.)\n",
    "            return safe_x\n",
    "\n",
    "        def safe_divide(x, y):\n",
    "            return np.where(y == 0., 0., x/y)\n",
    "\n",
    "        def strain(u_grad):\n",
    "            return 0.5*(u_grad + u_grad.T)\n",
    "        \n",
    "        def stress(eps, E):\n",
    "            return E*self.nu/((1+self.nu)*(1-2*self.nu))*np.trace(eps)*np.eye(self.dim) + 2*E/(2.*(1. + self.nu))*eps\n",
    "        \n",
    "        def E_calc(density):\n",
    "            # question is, can I call this outside the problem?\n",
    "            # no need, just set E_Factor and nu outside and then calculate again. Not efficient, but straightforward.\n",
    "            return self.E_factor*density\n",
    "\n",
    "        def P_comp(density):\n",
    "            \"\"\"Calculates the compressive strength of a material as a function of volume filling factor for homogeneous, monodisperse monomers. Adapted from Tatsuuma et al. 2023.\n",
    "            The equation takes the density rather than volume filling factor as input. \n",
    "\n",
    "            Args:\n",
    "                density (float, array-like): N dim. array of cell volumes\n",
    "\n",
    "            Returns:\n",
    "                float, array-like: compressive strength of each cell in the material\n",
    "            \"\"\"\n",
    "            # C = (4*np.pi*r0**3)/(3*m0) # constant\n",
    "            C = 1 # for a density varying between 0 and 1, C <= phi_max\n",
    "            phi = C*density\n",
    "            Y = (Eroll/(r0**3)) * (1/(C*density) - 1/phi_max)**(-3)\n",
    "\n",
    "            return Y\n",
    "\n",
    "        def stress_return_map(u_grad, sigma_old, eps_old, density):\n",
    "            \"\"\" Calculate the new stress field from the old deformation gradient, old stress, and old strain. \n",
    "\n",
    "            Args:\n",
    "                u_grad (_type_): 3x3 matrix, gradient of the solution\n",
    "                sigma_old (_type_): 3x3 matrix of the stresses\n",
    "                eps_old (_type_): 3x3 matrix of the strains\n",
    "                density (_type_): scalar value of the density\n",
    "\n",
    "            Returns:\n",
    "                _type_: updated stress\n",
    "\n",
    "            \"\"\"\n",
    "    \n",
    "            # calculate the yield strength and Young's modulus from the density field\n",
    "            Y = P_comp(density)\n",
    "            E = E_calc(density) # E = constant * density\n",
    "            \n",
    "            # calculate the new stress field with a radial return map\n",
    "            deps = strain(u_grad) - eps_old\n",
    "            sigma_trial = stress(deps, E) + sigma_old\n",
    "            s_dev = sigma_trial - 1./self.dim*np.trace(sigma_trial)*np.eye(self.dim)\n",
    "            von_Mises = safe_sqrt(3./2.*np.sum(s_dev*s_dev))\n",
    "            f_yield = von_Mises - Y\n",
    "            f_yield_plus = np.where(f_yield > 0., f_yield, 0.)\n",
    "            sigma = sigma_trial - safe_divide(f_yield_plus*s_dev,von_Mises)\n",
    "\n",
    "            return sigma\n",
    "        \n",
    "        return strain, stress_return_map\n",
    "    \n",
    "    def stress_strain_funcs(self):\n",
    "        \"\"\"Return mapping functions for stress, strain, density\n",
    "\n",
    "        Returns:\n",
    "            _type_: _description_\n",
    "        \"\"\"\n",
    "        strain, stress_return_map = self.get_maps()\n",
    "        vmap_strain = jax.vmap(jax.vmap(strain))\n",
    "        vmap_stress_return_map = jax.vmap(jax.vmap(stress_return_map))\n",
    "        return vmap_strain, vmap_stress_return_map\n",
    "        \n",
    "\n",
    "    def update_stress_strain_density(self, sol, density):\n",
    "        # set new values for old stress, strain, density\n",
    "        u_grads = self.fe.sol_to_grad(sol)\n",
    "        vmap_strain, vmap_stress_rm = self.stress_strain_funcs()\n",
    "        self.density = density\n",
    "        self.sigmas_old = vmap_stress_rm(u_grads, self.sigmas_old, self.epsilons_old, self.density) # use old or new density? I think old\n",
    "        self.epsilons_old = vmap_strain(u_grads)\n",
    "        self.internal_vars = [self.sigmas_old, self.epsilons_old, self.density]\n",
    "        print(self.density.shape, self.sigmas_old.shape, self.epsilons_old.shape)\n",
    "\n",
    "\n",
    "    def compute_avg_stress(self):\n",
    "        # For post-processing only: Compute volume averaged stress.\n",
    "        # (num_cells*num_quads, vec, dim) * (num_cells*num_quads, 1, 1) -> (vec, dim)\n",
    "        sigma = np.sum(self.sigmas_old.reshape(-1, self.fe.vec, self.dim) * self.fe.JxW.reshape(-1)[:, None, None], 0)\n",
    "        vol = np.sum(self.fe.JxW)\n",
    "        avg_sigma = sigma/vol\n",
    "        return avg_sigma\n"
   ]
  },
  {
   "cell_type": "markdown",
   "metadata": {},
   "source": [
    "### Simulation"
   ]
  },
  {
   "cell_type": "code",
   "execution_count": null,
   "metadata": {},
   "outputs": [
    {
     "name": "stderr",
     "output_type": "stream",
     "text": [
      "[03-07 18:28:26][DEBUG] jax_fem: Computing shape function values, gradients, etc.\n",
      "[03-07 18:28:26][DEBUG] jax_fem: ele_type = HEX8, quad_points.shape = (num_quads, dim) = (8, 3)\n",
      "[03-07 18:28:26][DEBUG] jax_fem: face_quad_points.shape = (num_faces, num_face_quads, dim) = (6, 4, 3)\n",
      "[03-07 18:28:26][DEBUG] jax_fem: Done pre-computations, took 0.053597450256347656 [s]\n",
      "[03-07 18:28:26][INFO] jax_fem: Solving a problem with 1000 cells, 1331x3 = 3993 dofs.\n",
      "[03-07 18:28:26][DEBUG] jax_fem: Calling the row elimination solver for imposing Dirichlet B.C.\n",
      "[03-07 18:28:26][DEBUG] jax_fem: Start timing\n",
      "[03-07 18:28:26][DEBUG] jax_fem: Computing cell Jacobian and cell residual...\n"
     ]
    },
    {
     "name": "stdout",
     "output_type": "stream",
     "text": [
      "Info    : Meshing 1D...\n",
      "Info    : [  0%] Meshing curve 1 (Extruded)\n",
      "Info    : [ 10%] Meshing curve 2 (Extruded)\n",
      "Info    : [ 20%] Meshing curve 3 (Extruded)\n",
      "Info    : [ 30%] Meshing curve 4 (Extruded)\n",
      "Info    : [ 40%] Meshing curve 7 (Extruded)\n",
      "Info    : [ 50%] Meshing curve 8 (Extruded)\n",
      "Info    : [ 50%] Meshing curve 9 (Extruded)\n",
      "Info    : [ 60%] Meshing curve 10 (Extruded)\n",
      "Info    : [ 70%] Meshing curve 12 (Extruded)\n",
      "Info    : [ 80%] Meshing curve 13 (Extruded)\n",
      "Info    : [ 90%] Meshing curve 17 (Extruded)\n",
      "Info    : [100%] Meshing curve 21 (Extruded)\n",
      "Info    : Done meshing 1D (Wall 0.000175081s, CPU 0.000161s)\n",
      "Info    : Meshing 2D...\n",
      "Info    : [  0%] Meshing surface 5 (Extruded)\n",
      "Info    : [ 20%] Meshing surface 14 (Extruded)\n",
      "Info    : [ 40%] Meshing surface 18 (Extruded)\n",
      "Info    : [ 50%] Meshing surface 22 (Extruded)\n",
      "Info    : [ 70%] Meshing surface 26 (Extruded)\n",
      "Info    : [ 90%] Meshing surface 27 (Extruded)\n",
      "Info    : Done meshing 2D (Wall 0.00807336s, CPU 0.009687s)\n",
      "Info    : Meshing 3D...\n",
      "Info    : Meshing volume 1 (Extruded)\n",
      "Info    : Done meshing 3D (Wall 0.00800084s, CPU 0.007212s)\n",
      "Info    : Optimizing mesh...\n",
      "Info    : Done optimizing mesh (Wall 8.315e-05s, CPU 7.6e-05s)\n",
      "Info    : 1331 nodes 1728 elements\n",
      "Info    : Writing '/home/elouan/Compression/density-model-field-test_80_jax_solver_0.01_1rho/msh/box.msh'...\n",
      "Info    : Done writing '/home/elouan/Compression/density-model-field-test_80_jax_solver_0.01_1rho/msh/box.msh'\n",
      "\n",
      "[0.00111 0.00111 0.00111 0.00111 0.00111 0.00111 0.00111 0.00111]\n",
      "(1000, 8)\n",
      "\n",
      "Step 0 in 20, disp = 0.0\n"
     ]
    },
    {
     "name": "stderr",
     "output_type": "stream",
     "text": [
      "[03-07 18:28:27][DEBUG] jax_fem: Function split_and_compute_cell took 0.4401 seconds\n",
      "[03-07 18:28:27][DEBUG] jax_fem: Creating sparse matrix with scipy...\n",
      "[03-07 18:28:27][DEBUG] jax_fem: Before, l_2 res = 0.0, relative l_2 res = nan\n",
      "[03-07 18:28:27][INFO] jax_fem: Solve took 0.511481761932373 [s]\n",
      "[03-07 18:28:27][DEBUG] jax_fem: max of dofs = 0.0\n",
      "[03-07 18:28:27][DEBUG] jax_fem: min of dofs = 0.0\n",
      "[03-07 18:28:28][DEBUG] jax_fem: Calling the row elimination solver for imposing Dirichlet B.C.\n",
      "[03-07 18:28:28][DEBUG] jax_fem: Start timing\n",
      "[03-07 18:28:28][DEBUG] jax_fem: Computing cell Jacobian and cell residual...\n",
      "[03-07 18:28:28][DEBUG] jax_fem: Function split_and_compute_cell took 0.1063 seconds\n",
      "[03-07 18:28:28][DEBUG] jax_fem: Creating sparse matrix with scipy...\n",
      "[03-07 18:28:28][DEBUG] jax_fem: Before, l_2 res = 0.4631578947368421, relative l_2 res = 1.0\n",
      "[03-07 18:28:28][DEBUG] jax_fem: Solving linear system...\n"
     ]
    },
    {
     "name": "stdout",
     "output_type": "stream",
     "text": [
      "(1000, 8) (1000, 8, 3, 3) (1000, 8, 3, 3)\n",
      "\n",
      "Step 1 in 20, disp = -0.042105263157894736\n"
     ]
    },
    {
     "name": "stderr",
     "output_type": "stream",
     "text": [
      "[03-07 18:28:28][DEBUG] jax_fem: JAX Solver - Solving linear system\n",
      "[03-07 18:28:29][DEBUG] jax_fem: JAX Solver - Finshed solving, res = 9.645850820455592e-11\n",
      "[03-07 18:28:29][DEBUG] jax_fem: Computing cell Jacobian and cell residual...\n",
      "[03-07 18:28:29][DEBUG] jax_fem: Function split_and_compute_cell took 0.1368 seconds\n",
      "[03-07 18:28:29][DEBUG] jax_fem: Creating sparse matrix with scipy...\n",
      "[03-07 18:28:29][DEBUG] jax_fem: l_2 res = 9.645850820409067e-11, relative l_2 res = 2.0826268816792305e-10\n",
      "[03-07 18:28:29][INFO] jax_fem: Solve took 0.9453048706054688 [s]\n",
      "[03-07 18:28:29][DEBUG] jax_fem: max of dofs = 0.0018439816479034299\n",
      "[03-07 18:28:29][DEBUG] jax_fem: min of dofs = -0.042105263157894736\n",
      "[03-07 18:28:30][DEBUG] jax_fem: Calling the row elimination solver for imposing Dirichlet B.C.\n",
      "[03-07 18:28:30][DEBUG] jax_fem: Start timing\n",
      "[03-07 18:28:30][DEBUG] jax_fem: Computing cell Jacobian and cell residual...\n",
      "[03-07 18:28:30][DEBUG] jax_fem: Function split_and_compute_cell took 0.1110 seconds\n",
      "[03-07 18:28:30][DEBUG] jax_fem: Creating sparse matrix with scipy...\n",
      "[03-07 18:28:30][DEBUG] jax_fem: Before, l_2 res = 0.9263157894736842, relative l_2 res = 1.0\n",
      "[03-07 18:28:30][DEBUG] jax_fem: Solving linear system...\n"
     ]
    },
    {
     "name": "stdout",
     "output_type": "stream",
     "text": [
      "(1000, 8) (1000, 8, 3, 3) (1000, 8, 3, 3)\n",
      "\n",
      "Step 2 in 20, disp = -0.08421052631578947\n"
     ]
    },
    {
     "name": "stderr",
     "output_type": "stream",
     "text": [
      "[03-07 18:28:30][DEBUG] jax_fem: JAX Solver - Solving linear system\n",
      "[03-07 18:28:31][DEBUG] jax_fem: JAX Solver - Finshed solving, res = 4.2574518010279954e-11\n",
      "[03-07 18:28:31][DEBUG] jax_fem: Computing cell Jacobian and cell residual...\n",
      "[03-07 18:28:31][DEBUG] jax_fem: Function split_and_compute_cell took 0.1276 seconds\n",
      "[03-07 18:28:31][DEBUG] jax_fem: Creating sparse matrix with scipy...\n",
      "[03-07 18:28:31][DEBUG] jax_fem: l_2 res = 4.257451801035796e-11, relative l_2 res = 4.596112739754553e-11\n",
      "[03-07 18:28:31][INFO] jax_fem: Solve took 0.8672616481781006 [s]\n",
      "[03-07 18:28:31][DEBUG] jax_fem: max of dofs = 0.003633352606963305\n",
      "[03-07 18:28:31][DEBUG] jax_fem: min of dofs = -0.08421052631578947\n",
      "[03-07 18:28:32][DEBUG] jax_fem: Calling the row elimination solver for imposing Dirichlet B.C.\n",
      "[03-07 18:28:32][DEBUG] jax_fem: Start timing\n",
      "[03-07 18:28:32][DEBUG] jax_fem: Computing cell Jacobian and cell residual...\n",
      "[03-07 18:28:32][DEBUG] jax_fem: Function split_and_compute_cell took 0.1295 seconds\n",
      "[03-07 18:28:32][DEBUG] jax_fem: Creating sparse matrix with scipy...\n"
     ]
    },
    {
     "name": "stdout",
     "output_type": "stream",
     "text": [
      "(1000, 8) (1000, 8, 3, 3) (1000, 8, 3, 3)\n",
      "\n",
      "Step 3 in 20, disp = -0.12631578947368421\n"
     ]
    },
    {
     "name": "stderr",
     "output_type": "stream",
     "text": [
      "[03-07 18:28:33][DEBUG] jax_fem: Before, l_2 res = 1.3894736842105382, relative l_2 res = 1.0\n",
      "[03-07 18:28:33][DEBUG] jax_fem: Solving linear system...\n",
      "[03-07 18:28:33][DEBUG] jax_fem: JAX Solver - Solving linear system\n",
      "[03-07 18:28:33][DEBUG] jax_fem: JAX Solver - Finshed solving, res = 1.2093433370492622e-10\n",
      "[03-07 18:28:33][DEBUG] jax_fem: Computing cell Jacobian and cell residual...\n",
      "[03-07 18:28:33][DEBUG] jax_fem: Function split_and_compute_cell took 0.1355 seconds\n",
      "[03-07 18:28:33][DEBUG] jax_fem: Creating sparse matrix with scipy...\n",
      "[03-07 18:28:33][DEBUG] jax_fem: l_2 res = 1.2093433370358854e-10, relative l_2 res = 8.703607349879404e-11\n",
      "[03-07 18:28:33][INFO] jax_fem: Solve took 0.9788050651550293 [s]\n",
      "[03-07 18:28:33][DEBUG] jax_fem: max of dofs = 0.005393831607961053\n",
      "[03-07 18:28:33][DEBUG] jax_fem: min of dofs = -0.12631578947368421\n",
      "[03-07 18:28:34][DEBUG] jax_fem: Calling the row elimination solver for imposing Dirichlet B.C.\n",
      "[03-07 18:28:34][DEBUG] jax_fem: Start timing\n",
      "[03-07 18:28:34][DEBUG] jax_fem: Computing cell Jacobian and cell residual...\n",
      "[03-07 18:28:35][DEBUG] jax_fem: Function split_and_compute_cell took 0.1264 seconds\n",
      "[03-07 18:28:35][DEBUG] jax_fem: Creating sparse matrix with scipy...\n"
     ]
    },
    {
     "name": "stdout",
     "output_type": "stream",
     "text": [
      "(1000, 8) (1000, 8, 3, 3) (1000, 8, 3, 3)\n",
      "\n",
      "Step 4 in 20, disp = -0.16842105263157894\n"
     ]
    },
    {
     "name": "stderr",
     "output_type": "stream",
     "text": [
      "[03-07 18:28:35][DEBUG] jax_fem: Before, l_2 res = 1.852631578947464, relative l_2 res = 1.0\n",
      "[03-07 18:28:35][DEBUG] jax_fem: Solving linear system...\n",
      "[03-07 18:28:35][DEBUG] jax_fem: JAX Solver - Solving linear system\n",
      "[03-07 18:28:35][DEBUG] jax_fem: JAX Solver - Finshed solving, res = 1.8426549753070053e-10\n",
      "[03-07 18:28:35][DEBUG] jax_fem: Computing cell Jacobian and cell residual...\n",
      "[03-07 18:28:35][DEBUG] jax_fem: Function split_and_compute_cell took 0.1314 seconds\n",
      "[03-07 18:28:35][DEBUG] jax_fem: Creating sparse matrix with scipy...\n",
      "[03-07 18:28:35][DEBUG] jax_fem: l_2 res = 1.8426549753094281e-10, relative l_2 res = 9.946149014453786e-11\n",
      "[03-07 18:28:35][INFO] jax_fem: Solve took 0.9187362194061279 [s]\n",
      "[03-07 18:28:35][DEBUG] jax_fem: max of dofs = 0.007121058868761994\n",
      "[03-07 18:28:35][DEBUG] jax_fem: min of dofs = -0.16842105263157894\n",
      "[03-07 18:28:37][DEBUG] jax_fem: Calling the row elimination solver for imposing Dirichlet B.C.\n",
      "[03-07 18:28:37][DEBUG] jax_fem: Start timing\n",
      "[03-07 18:28:37][DEBUG] jax_fem: Computing cell Jacobian and cell residual...\n",
      "[03-07 18:28:37][DEBUG] jax_fem: Function split_and_compute_cell took 0.1251 seconds\n",
      "[03-07 18:28:37][DEBUG] jax_fem: Creating sparse matrix with scipy...\n"
     ]
    },
    {
     "name": "stdout",
     "output_type": "stream",
     "text": [
      "(1000, 8) (1000, 8, 3, 3) (1000, 8, 3, 3)\n",
      "\n",
      "Step 5 in 20, disp = -0.21052631578947367\n"
     ]
    },
    {
     "name": "stderr",
     "output_type": "stream",
     "text": [
      "[03-07 18:28:37][DEBUG] jax_fem: Before, l_2 res = 2.315789473684582, relative l_2 res = 1.0\n",
      "[03-07 18:28:37][DEBUG] jax_fem: Solving linear system...\n",
      "[03-07 18:28:37][DEBUG] jax_fem: JAX Solver - Solving linear system\n",
      "[03-07 18:28:37][DEBUG] jax_fem: JAX Solver - Finshed solving, res = 2.1923691137390109e-10\n",
      "[03-07 18:28:37][DEBUG] jax_fem: Computing cell Jacobian and cell residual...\n",
      "[03-07 18:28:37][DEBUG] jax_fem: Function split_and_compute_cell took 0.1257 seconds\n",
      "[03-07 18:28:37][DEBUG] jax_fem: Creating sparse matrix with scipy...\n",
      "[03-07 18:28:38][DEBUG] jax_fem: l_2 res = 2.1923691137639516e-10, relative l_2 res = 9.467048445797364e-11\n",
      "[03-07 18:28:38][INFO] jax_fem: Solve took 0.8333098888397217 [s]\n",
      "[03-07 18:28:38][DEBUG] jax_fem: max of dofs = 0.00881196624931281\n",
      "[03-07 18:28:38][DEBUG] jax_fem: min of dofs = -0.21052631578947367\n",
      "[03-07 18:28:39][DEBUG] jax_fem: Calling the row elimination solver for imposing Dirichlet B.C.\n",
      "[03-07 18:28:39][DEBUG] jax_fem: Start timing\n",
      "[03-07 18:28:39][DEBUG] jax_fem: Computing cell Jacobian and cell residual...\n",
      "[03-07 18:28:39][DEBUG] jax_fem: Function split_and_compute_cell took 0.1284 seconds\n",
      "[03-07 18:28:39][DEBUG] jax_fem: Creating sparse matrix with scipy...\n"
     ]
    },
    {
     "name": "stdout",
     "output_type": "stream",
     "text": [
      "(1000, 8) (1000, 8, 3, 3) (1000, 8, 3, 3)\n",
      "\n",
      "Step 6 in 20, disp = -0.25263157894736843\n"
     ]
    },
    {
     "name": "stderr",
     "output_type": "stream",
     "text": [
      "[03-07 18:28:39][DEBUG] jax_fem: Before, l_2 res = 2.7789473684221067, relative l_2 res = 1.0\n",
      "[03-07 18:28:39][DEBUG] jax_fem: Solving linear system...\n",
      "[03-07 18:28:39][DEBUG] jax_fem: JAX Solver - Solving linear system\n",
      "[03-07 18:28:39][DEBUG] jax_fem: JAX Solver - Finshed solving, res = 2.245494518147725e-10\n",
      "[03-07 18:28:39][DEBUG] jax_fem: Computing cell Jacobian and cell residual...\n",
      "[03-07 18:28:40][DEBUG] jax_fem: Function split_and_compute_cell took 0.1346 seconds\n",
      "[03-07 18:28:40][DEBUG] jax_fem: Creating sparse matrix with scipy...\n",
      "[03-07 18:28:40][DEBUG] jax_fem: l_2 res = 2.2454945181744898e-10, relative l_2 res = 8.080378001003621e-11\n",
      "[03-07 18:28:40][INFO] jax_fem: Solve took 0.9409022331237793 [s]\n",
      "[03-07 18:28:40][DEBUG] jax_fem: max of dofs = 0.010463912332525305\n",
      "[03-07 18:28:40][DEBUG] jax_fem: min of dofs = -0.25263157894736843\n",
      "[03-07 18:28:41][DEBUG] jax_fem: Calling the row elimination solver for imposing Dirichlet B.C.\n",
      "[03-07 18:28:41][DEBUG] jax_fem: Start timing\n",
      "[03-07 18:28:41][DEBUG] jax_fem: Computing cell Jacobian and cell residual...\n",
      "[03-07 18:28:41][DEBUG] jax_fem: Function split_and_compute_cell took 0.1262 seconds\n",
      "[03-07 18:28:41][DEBUG] jax_fem: Creating sparse matrix with scipy...\n"
     ]
    },
    {
     "name": "stdout",
     "output_type": "stream",
     "text": [
      "(1000, 8) (1000, 8, 3, 3) (1000, 8, 3, 3)\n",
      "\n",
      "Step 7 in 20, disp = -0.29473684210526313\n"
     ]
    },
    {
     "name": "stderr",
     "output_type": "stream",
     "text": [
      "[03-07 18:28:41][DEBUG] jax_fem: Before, l_2 res = 3.242105263160417, relative l_2 res = 1.0\n",
      "[03-07 18:28:41][DEBUG] jax_fem: Solving linear system...\n",
      "[03-07 18:28:41][DEBUG] jax_fem: JAX Solver - Solving linear system\n",
      "[03-07 18:28:42][DEBUG] jax_fem: JAX Solver - Finshed solving, res = 3.012447056597306e-10\n",
      "[03-07 18:28:42][DEBUG] jax_fem: Computing cell Jacobian and cell residual...\n",
      "[03-07 18:28:42][DEBUG] jax_fem: Function split_and_compute_cell took 0.1292 seconds\n",
      "[03-07 18:28:42][DEBUG] jax_fem: Creating sparse matrix with scipy...\n",
      "[03-07 18:28:42][DEBUG] jax_fem: l_2 res = 3.0124470565843314e-10, relative l_2 res = 9.291638648548339e-11\n",
      "[03-07 18:28:42][INFO] jax_fem: Solve took 0.8461806774139404 [s]\n",
      "[03-07 18:28:42][DEBUG] jax_fem: max of dofs = 0.012073180301182233\n",
      "[03-07 18:28:42][DEBUG] jax_fem: min of dofs = -0.29473684210526313\n",
      "[03-07 18:28:43][DEBUG] jax_fem: Calling the row elimination solver for imposing Dirichlet B.C.\n",
      "[03-07 18:28:43][DEBUG] jax_fem: Start timing\n",
      "[03-07 18:28:43][DEBUG] jax_fem: Computing cell Jacobian and cell residual...\n",
      "[03-07 18:28:43][DEBUG] jax_fem: Function split_and_compute_cell took 0.1308 seconds\n",
      "[03-07 18:28:43][DEBUG] jax_fem: Creating sparse matrix with scipy...\n"
     ]
    },
    {
     "name": "stdout",
     "output_type": "stream",
     "text": [
      "(1000, 8) (1000, 8, 3, 3) (1000, 8, 3, 3)\n",
      "\n",
      "Step 8 in 20, disp = -0.3368421052631579\n"
     ]
    },
    {
     "name": "stderr",
     "output_type": "stream",
     "text": [
      "[03-07 18:28:43][DEBUG] jax_fem: Before, l_2 res = 3.705263157900176, relative l_2 res = 1.0\n",
      "[03-07 18:28:43][DEBUG] jax_fem: Solving linear system...\n",
      "[03-07 18:28:43][DEBUG] jax_fem: JAX Solver - Solving linear system\n",
      "[03-07 18:28:44][DEBUG] jax_fem: JAX Solver - Finshed solving, res = 3.3663289659323783e-10\n",
      "[03-07 18:28:44][DEBUG] jax_fem: Computing cell Jacobian and cell residual...\n",
      "[03-07 18:28:44][DEBUG] jax_fem: Function split_and_compute_cell took 0.1321 seconds\n",
      "[03-07 18:28:44][DEBUG] jax_fem: Creating sparse matrix with scipy...\n",
      "[03-07 18:28:44][DEBUG] jax_fem: l_2 res = 3.366328965777745e-10, relative l_2 res = 9.085262833761827e-11\n",
      "[03-07 18:28:44][INFO] jax_fem: Solve took 0.9448716640472412 [s]\n",
      "[03-07 18:28:44][DEBUG] jax_fem: max of dofs = 0.013636064766651001\n",
      "[03-07 18:28:44][DEBUG] jax_fem: min of dofs = -0.3368421052631579\n",
      "[03-07 18:28:45][DEBUG] jax_fem: Calling the row elimination solver for imposing Dirichlet B.C.\n",
      "[03-07 18:28:45][DEBUG] jax_fem: Start timing\n",
      "[03-07 18:28:45][DEBUG] jax_fem: Computing cell Jacobian and cell residual...\n",
      "[03-07 18:28:46][DEBUG] jax_fem: Function split_and_compute_cell took 0.1287 seconds\n",
      "[03-07 18:28:46][DEBUG] jax_fem: Creating sparse matrix with scipy...\n"
     ]
    },
    {
     "name": "stdout",
     "output_type": "stream",
     "text": [
      "(1000, 8) (1000, 8, 3, 3) (1000, 8, 3, 3)\n",
      "\n",
      "Step 9 in 20, disp = -0.37894736842105264\n"
     ]
    },
    {
     "name": "stderr",
     "output_type": "stream",
     "text": [
      "[03-07 18:28:46][DEBUG] jax_fem: Before, l_2 res = 4.168421052642537, relative l_2 res = 1.0\n",
      "[03-07 18:28:46][DEBUG] jax_fem: Solving linear system...\n",
      "[03-07 18:28:46][DEBUG] jax_fem: JAX Solver - Solving linear system\n",
      "[03-07 18:28:46][DEBUG] jax_fem: JAX Solver - Finshed solving, res = 2.6671538612115807e-10\n",
      "[03-07 18:28:46][DEBUG] jax_fem: Computing cell Jacobian and cell residual...\n",
      "[03-07 18:28:46][DEBUG] jax_fem: Function split_and_compute_cell took 0.1262 seconds\n",
      "[03-07 18:28:46][DEBUG] jax_fem: Creating sparse matrix with scipy...\n",
      "[03-07 18:28:46][DEBUG] jax_fem: l_2 res = 2.6671538608774814e-10, relative l_2 res = 6.398475171280167e-11\n",
      "[03-07 18:28:46][INFO] jax_fem: Solve took 0.8499190807342529 [s]\n",
      "[03-07 18:28:46][DEBUG] jax_fem: max of dofs = 0.015149214216644448\n",
      "[03-07 18:28:46][DEBUG] jax_fem: min of dofs = -0.37894736842105264\n",
      "[03-07 18:28:48][DEBUG] jax_fem: Calling the row elimination solver for imposing Dirichlet B.C.\n",
      "[03-07 18:28:48][DEBUG] jax_fem: Start timing\n",
      "[03-07 18:28:48][DEBUG] jax_fem: Computing cell Jacobian and cell residual...\n",
      "[03-07 18:28:48][DEBUG] jax_fem: Function split_and_compute_cell took 0.1404 seconds\n",
      "[03-07 18:28:48][DEBUG] jax_fem: Creating sparse matrix with scipy...\n"
     ]
    },
    {
     "name": "stdout",
     "output_type": "stream",
     "text": [
      "(1000, 8) (1000, 8, 3, 3) (1000, 8, 3, 3)\n",
      "\n",
      "Step 10 in 20, disp = -0.42105263157894735\n"
     ]
    },
    {
     "name": "stderr",
     "output_type": "stream",
     "text": [
      "[03-07 18:28:48][DEBUG] jax_fem: Before, l_2 res = 4.631578947389532, relative l_2 res = 1.0\n",
      "[03-07 18:28:48][DEBUG] jax_fem: Solving linear system...\n",
      "[03-07 18:28:48][DEBUG] jax_fem: JAX Solver - Solving linear system\n",
      "[03-07 18:28:48][DEBUG] jax_fem: JAX Solver - Finshed solving, res = 2.922456087446146e-10\n",
      "[03-07 18:28:48][DEBUG] jax_fem: Computing cell Jacobian and cell residual...\n",
      "[03-07 18:28:48][DEBUG] jax_fem: Function split_and_compute_cell took 0.1268 seconds\n",
      "[03-07 18:28:48][DEBUG] jax_fem: Creating sparse matrix with scipy...\n",
      "[03-07 18:28:48][DEBUG] jax_fem: l_2 res = 2.9224560872375563e-10, relative l_2 res = 6.309848370143236e-11\n",
      "[03-07 18:28:48][INFO] jax_fem: Solve took 0.9112129211425781 [s]\n",
      "[03-07 18:28:48][DEBUG] jax_fem: max of dofs = 0.01660626660818843\n",
      "[03-07 18:28:48][DEBUG] jax_fem: min of dofs = -0.42105263157894735\n",
      "[03-07 18:28:50][DEBUG] jax_fem: Calling the row elimination solver for imposing Dirichlet B.C.\n",
      "[03-07 18:28:50][DEBUG] jax_fem: Start timing\n",
      "[03-07 18:28:50][DEBUG] jax_fem: Computing cell Jacobian and cell residual...\n",
      "[03-07 18:28:50][DEBUG] jax_fem: Function split_and_compute_cell took 0.1253 seconds\n",
      "[03-07 18:28:50][DEBUG] jax_fem: Creating sparse matrix with scipy...\n"
     ]
    },
    {
     "name": "stdout",
     "output_type": "stream",
     "text": [
      "(1000, 8) (1000, 8, 3, 3) (1000, 8, 3, 3)\n",
      "\n",
      "Step 11 in 20, disp = -0.4631578947368421\n"
     ]
    },
    {
     "name": "stderr",
     "output_type": "stream",
     "text": [
      "[03-07 18:28:50][DEBUG] jax_fem: Before, l_2 res = 5.094736842144803, relative l_2 res = 1.0\n",
      "[03-07 18:28:50][DEBUG] jax_fem: Solving linear system...\n",
      "[03-07 18:28:50][DEBUG] jax_fem: JAX Solver - Solving linear system\n",
      "[03-07 18:28:51][DEBUG] jax_fem: JAX Solver - Finshed solving, res = 2.437020045816839e-10\n",
      "[03-07 18:28:51][DEBUG] jax_fem: Computing cell Jacobian and cell residual...\n",
      "[03-07 18:28:51][DEBUG] jax_fem: Function split_and_compute_cell took 0.1361 seconds\n",
      "[03-07 18:28:51][DEBUG] jax_fem: Creating sparse matrix with scipy...\n",
      "[03-07 18:28:51][DEBUG] jax_fem: l_2 res = 2.4370200456533513e-10, relative l_2 res = 4.7834071143651154e-11\n",
      "[03-07 18:28:51][INFO] jax_fem: Solve took 0.9399139881134033 [s]\n",
      "[03-07 18:28:51][DEBUG] jax_fem: max of dofs = 0.01800288029580023\n",
      "[03-07 18:28:51][DEBUG] jax_fem: min of dofs = -0.4631578947368421\n",
      "[03-07 18:28:52][DEBUG] jax_fem: Calling the row elimination solver for imposing Dirichlet B.C.\n",
      "[03-07 18:28:52][DEBUG] jax_fem: Start timing\n",
      "[03-07 18:28:52][DEBUG] jax_fem: Computing cell Jacobian and cell residual...\n",
      "[03-07 18:28:52][DEBUG] jax_fem: Function split_and_compute_cell took 0.1312 seconds\n",
      "[03-07 18:28:52][DEBUG] jax_fem: Creating sparse matrix with scipy...\n"
     ]
    },
    {
     "name": "stdout",
     "output_type": "stream",
     "text": [
      "(1000, 8) (1000, 8, 3, 3) (1000, 8, 3, 3)\n",
      "\n",
      "Step 12 in 20, disp = -0.5052631578947369\n"
     ]
    },
    {
     "name": "stderr",
     "output_type": "stream",
     "text": [
      "[03-07 18:28:52][DEBUG] jax_fem: Before, l_2 res = 5.557894736915009, relative l_2 res = 1.0\n",
      "[03-07 18:28:52][DEBUG] jax_fem: Solving linear system...\n",
      "[03-07 18:28:52][DEBUG] jax_fem: JAX Solver - Solving linear system\n",
      "[03-07 18:28:53][DEBUG] jax_fem: JAX Solver - Finshed solving, res = 5.047028406985095e-10\n",
      "[03-07 18:28:53][DEBUG] jax_fem: Computing cell Jacobian and cell residual...\n",
      "[03-07 18:28:53][DEBUG] jax_fem: Function split_and_compute_cell took 0.1355 seconds\n",
      "[03-07 18:28:53][DEBUG] jax_fem: Creating sparse matrix with scipy...\n",
      "[03-07 18:28:53][DEBUG] jax_fem: l_2 res = 5.047028406972309e-10, relative l_2 res = 9.080827626062124e-11\n",
      "[03-07 18:28:53][INFO] jax_fem: Solve took 0.8628392219543457 [s]\n",
      "[03-07 18:28:53][DEBUG] jax_fem: max of dofs = 0.019333277573336027\n",
      "[03-07 18:28:53][DEBUG] jax_fem: min of dofs = -0.5052631578947369\n",
      "[03-07 18:28:54][DEBUG] jax_fem: Calling the row elimination solver for imposing Dirichlet B.C.\n",
      "[03-07 18:28:54][DEBUG] jax_fem: Start timing\n",
      "[03-07 18:28:54][DEBUG] jax_fem: Computing cell Jacobian and cell residual...\n",
      "[03-07 18:28:54][DEBUG] jax_fem: Function split_and_compute_cell took 0.1296 seconds\n",
      "[03-07 18:28:54][DEBUG] jax_fem: Creating sparse matrix with scipy...\n"
     ]
    },
    {
     "name": "stdout",
     "output_type": "stream",
     "text": [
      "(1000, 8) (1000, 8, 3, 3) (1000, 8, 3, 3)\n",
      "\n",
      "Step 13 in 20, disp = -0.5473684210526316\n"
     ]
    },
    {
     "name": "stderr",
     "output_type": "stream",
     "text": [
      "[03-07 18:28:54][DEBUG] jax_fem: Before, l_2 res = 6.021052631712721, relative l_2 res = 1.0\n",
      "[03-07 18:28:54][DEBUG] jax_fem: Solving linear system...\n",
      "[03-07 18:28:54][DEBUG] jax_fem: JAX Solver - Solving linear system\n",
      "[03-07 18:28:55][DEBUG] jax_fem: JAX Solver - Finshed solving, res = 5.501088614841269e-10\n",
      "[03-07 18:28:55][DEBUG] jax_fem: Computing cell Jacobian and cell residual...\n",
      "[03-07 18:28:55][DEBUG] jax_fem: Function split_and_compute_cell took 0.1400 seconds\n",
      "[03-07 18:28:55][DEBUG] jax_fem: Creating sparse matrix with scipy...\n",
      "[03-07 18:28:55][DEBUG] jax_fem: l_2 res = 5.50108861542526e-10, relative l_2 res = 9.136423399541758e-11\n",
      "[03-07 18:28:55][INFO] jax_fem: Solve took 0.8542578220367432 [s]\n",
      "[03-07 18:28:55][DEBUG] jax_fem: max of dofs = 0.020590111482255306\n",
      "[03-07 18:28:55][DEBUG] jax_fem: min of dofs = -0.5473684210526316\n",
      "[03-07 18:28:56][DEBUG] jax_fem: Calling the row elimination solver for imposing Dirichlet B.C.\n",
      "[03-07 18:28:56][DEBUG] jax_fem: Start timing\n",
      "[03-07 18:28:56][DEBUG] jax_fem: Computing cell Jacobian and cell residual...\n",
      "[03-07 18:28:56][DEBUG] jax_fem: Function split_and_compute_cell took 0.1357 seconds\n",
      "[03-07 18:28:56][DEBUG] jax_fem: Creating sparse matrix with scipy...\n"
     ]
    },
    {
     "name": "stdout",
     "output_type": "stream",
     "text": [
      "(1000, 8) (1000, 8, 3, 3) (1000, 8, 3, 3)\n",
      "\n",
      "Step 14 in 20, disp = -0.5894736842105263\n"
     ]
    },
    {
     "name": "stderr",
     "output_type": "stream",
     "text": [
      "[03-07 18:28:56][DEBUG] jax_fem: Before, l_2 res = 6.484210526562615, relative l_2 res = 1.0\n",
      "[03-07 18:28:56][DEBUG] jax_fem: Solving linear system...\n",
      "[03-07 18:28:56][DEBUG] jax_fem: JAX Solver - Solving linear system\n",
      "[03-07 18:28:57][DEBUG] jax_fem: JAX Solver - Finshed solving, res = 4.4863271397240426e-10\n",
      "[03-07 18:28:57][DEBUG] jax_fem: Computing cell Jacobian and cell residual...\n",
      "[03-07 18:28:57][DEBUG] jax_fem: Function split_and_compute_cell took 0.1356 seconds\n",
      "[03-07 18:28:57][DEBUG] jax_fem: Creating sparse matrix with scipy...\n",
      "[03-07 18:28:57][DEBUG] jax_fem: l_2 res = 4.4863271400009816e-10, relative l_2 res = 6.918848673439442e-11\n",
      "[03-07 18:28:57][INFO] jax_fem: Solve took 0.8923518657684326 [s]\n",
      "[03-07 18:28:57][DEBUG] jax_fem: max of dofs = 0.0217658343986765\n",
      "[03-07 18:28:57][DEBUG] jax_fem: min of dofs = -0.5894736842105263\n",
      "[03-07 18:28:58][DEBUG] jax_fem: Calling the row elimination solver for imposing Dirichlet B.C.\n",
      "[03-07 18:28:58][DEBUG] jax_fem: Start timing\n",
      "[03-07 18:28:58][DEBUG] jax_fem: Computing cell Jacobian and cell residual...\n",
      "[03-07 18:28:58][DEBUG] jax_fem: Function split_and_compute_cell took 0.1318 seconds\n",
      "[03-07 18:28:59][DEBUG] jax_fem: Creating sparse matrix with scipy...\n"
     ]
    },
    {
     "name": "stdout",
     "output_type": "stream",
     "text": [
      "(1000, 8) (1000, 8, 3, 3) (1000, 8, 3, 3)\n",
      "\n",
      "Step 15 in 20, disp = -0.631578947368421\n"
     ]
    },
    {
     "name": "stderr",
     "output_type": "stream",
     "text": [
      "[03-07 18:28:59][DEBUG] jax_fem: Before, l_2 res = 6.947368421515632, relative l_2 res = 1.0\n",
      "[03-07 18:28:59][DEBUG] jax_fem: Solving linear system...\n",
      "[03-07 18:28:59][DEBUG] jax_fem: JAX Solver - Solving linear system\n",
      "[03-07 18:28:59][DEBUG] jax_fem: JAX Solver - Finshed solving, res = 5.371905629074676e-10\n",
      "[03-07 18:28:59][DEBUG] jax_fem: Computing cell Jacobian and cell residual...\n",
      "[03-07 18:28:59][DEBUG] jax_fem: Function split_and_compute_cell took 0.1237 seconds\n",
      "[03-07 18:28:59][DEBUG] jax_fem: Creating sparse matrix with scipy...\n",
      "[03-07 18:28:59][DEBUG] jax_fem: l_2 res = 5.371905629098362e-10, relative l_2 res = 7.732288405005059e-11\n",
      "[03-07 18:28:59][INFO] jax_fem: Solve took 0.9100711345672607 [s]\n",
      "[03-07 18:28:59][DEBUG] jax_fem: max of dofs = 0.02285151523412806\n",
      "[03-07 18:28:59][DEBUG] jax_fem: min of dofs = -0.631578947368421\n",
      "[03-07 18:29:00][DEBUG] jax_fem: Calling the row elimination solver for imposing Dirichlet B.C.\n",
      "[03-07 18:29:00][DEBUG] jax_fem: Start timing\n",
      "[03-07 18:29:00][DEBUG] jax_fem: Computing cell Jacobian and cell residual...\n",
      "[03-07 18:29:01][DEBUG] jax_fem: Function split_and_compute_cell took 0.1395 seconds\n",
      "[03-07 18:29:01][DEBUG] jax_fem: Creating sparse matrix with scipy...\n"
     ]
    },
    {
     "name": "stdout",
     "output_type": "stream",
     "text": [
      "(1000, 8) (1000, 8, 3, 3) (1000, 8, 3, 3)\n",
      "\n",
      "Step 16 in 20, disp = -0.6736842105263158\n"
     ]
    },
    {
     "name": "stderr",
     "output_type": "stream",
     "text": [
      "[03-07 18:29:01][DEBUG] jax_fem: Before, l_2 res = 7.410526316684006, relative l_2 res = 1.0\n",
      "[03-07 18:29:01][DEBUG] jax_fem: Solving linear system...\n",
      "[03-07 18:29:01][DEBUG] jax_fem: JAX Solver - Solving linear system\n",
      "[03-07 18:29:01][DEBUG] jax_fem: JAX Solver - Finshed solving, res = 7.313870628104371e-10\n",
      "[03-07 18:29:01][DEBUG] jax_fem: Computing cell Jacobian and cell residual...\n",
      "[03-07 18:29:01][DEBUG] jax_fem: Function split_and_compute_cell took 0.1364 seconds\n",
      "[03-07 18:29:01][DEBUG] jax_fem: Creating sparse matrix with scipy...\n",
      "[03-07 18:29:01][DEBUG] jax_fem: l_2 res = 7.313870628183255e-10, relative l_2 res = 9.86956973854456e-11\n",
      "[03-07 18:29:01][INFO] jax_fem: Solve took 0.9451563358306885 [s]\n",
      "[03-07 18:29:01][DEBUG] jax_fem: max of dofs = 0.023836824259750443\n",
      "[03-07 18:29:01][DEBUG] jax_fem: min of dofs = -0.6736842105263158\n",
      "[03-07 18:29:03][DEBUG] jax_fem: Calling the row elimination solver for imposing Dirichlet B.C.\n",
      "[03-07 18:29:03][DEBUG] jax_fem: Start timing\n",
      "[03-07 18:29:03][DEBUG] jax_fem: Computing cell Jacobian and cell residual...\n",
      "[03-07 18:29:03][DEBUG] jax_fem: Function split_and_compute_cell took 0.1262 seconds\n",
      "[03-07 18:29:03][DEBUG] jax_fem: Creating sparse matrix with scipy...\n"
     ]
    },
    {
     "name": "stdout",
     "output_type": "stream",
     "text": [
      "(1000, 8) (1000, 8, 3, 3) (1000, 8, 3, 3)\n",
      "\n",
      "Step 17 in 20, disp = -0.7157894736842105\n"
     ]
    },
    {
     "name": "stderr",
     "output_type": "stream",
     "text": [
      "[03-07 18:29:03][DEBUG] jax_fem: Before, l_2 res = 7.873684212337196, relative l_2 res = 1.0\n",
      "[03-07 18:29:03][DEBUG] jax_fem: Solving linear system...\n",
      "[03-07 18:29:03][DEBUG] jax_fem: JAX Solver - Solving linear system\n",
      "[03-07 18:29:03][DEBUG] jax_fem: JAX Solver - Finshed solving, res = 5.802973313890437e-10\n",
      "[03-07 18:29:03][DEBUG] jax_fem: Computing cell Jacobian and cell residual...\n",
      "[03-07 18:29:03][DEBUG] jax_fem: Function split_and_compute_cell took 0.1366 seconds\n",
      "[03-07 18:29:03][DEBUG] jax_fem: Creating sparse matrix with scipy...\n",
      "[03-07 18:29:03][DEBUG] jax_fem: l_2 res = 5.80297331369903e-10, relative l_2 res = 7.37008642613125e-11\n",
      "[03-07 18:29:03][INFO] jax_fem: Solve took 0.8907754421234131 [s]\n",
      "[03-07 18:29:04][DEBUG] jax_fem: max of dofs = 0.02470928050531417\n",
      "[03-07 18:29:04][DEBUG] jax_fem: min of dofs = -0.7157894736842105\n",
      "[03-07 18:29:05][DEBUG] jax_fem: Calling the row elimination solver for imposing Dirichlet B.C.\n",
      "[03-07 18:29:05][DEBUG] jax_fem: Start timing\n",
      "[03-07 18:29:05][DEBUG] jax_fem: Computing cell Jacobian and cell residual...\n",
      "[03-07 18:29:05][DEBUG] jax_fem: Function split_and_compute_cell took 0.1320 seconds\n",
      "[03-07 18:29:05][DEBUG] jax_fem: Creating sparse matrix with scipy...\n"
     ]
    },
    {
     "name": "stdout",
     "output_type": "stream",
     "text": [
      "(1000, 8) (1000, 8, 3, 3) (1000, 8, 3, 3)\n",
      "\n",
      "Step 18 in 20, disp = -0.7578947368421053\n"
     ]
    },
    {
     "name": "stderr",
     "output_type": "stream",
     "text": [
      "[03-07 18:29:05][DEBUG] jax_fem: Before, l_2 res = 8.336842109201784, relative l_2 res = 1.0\n",
      "[03-07 18:29:05][DEBUG] jax_fem: Solving linear system...\n",
      "[03-07 18:29:05][DEBUG] jax_fem: JAX Solver - Solving linear system\n",
      "[03-07 18:29:05][DEBUG] jax_fem: JAX Solver - Finshed solving, res = 2.7092353456665963e-10\n",
      "[03-07 18:29:05][DEBUG] jax_fem: Computing cell Jacobian and cell residual...\n",
      "[03-07 18:29:06][DEBUG] jax_fem: Function split_and_compute_cell took 0.1409 seconds\n",
      "[03-07 18:29:06][DEBUG] jax_fem: Creating sparse matrix with scipy...\n",
      "[03-07 18:29:06][DEBUG] jax_fem: l_2 res = 2.7092353450648524e-10, relative l_2 res = 3.2497141118632145e-11\n",
      "[03-07 18:29:06][INFO] jax_fem: Solve took 0.9973812103271484 [s]\n",
      "[03-07 18:29:06][DEBUG] jax_fem: max of dofs = 0.025454519948497054\n",
      "[03-07 18:29:06][DEBUG] jax_fem: min of dofs = -0.7578947368421053\n",
      "[03-07 18:29:07][DEBUG] jax_fem: Calling the row elimination solver for imposing Dirichlet B.C.\n",
      "[03-07 18:29:07][DEBUG] jax_fem: Start timing\n",
      "[03-07 18:29:07][DEBUG] jax_fem: Computing cell Jacobian and cell residual...\n",
      "[03-07 18:29:07][DEBUG] jax_fem: Function split_and_compute_cell took 0.1327 seconds\n",
      "[03-07 18:29:07][DEBUG] jax_fem: Creating sparse matrix with scipy...\n"
     ]
    },
    {
     "name": "stdout",
     "output_type": "stream",
     "text": [
      "(1000, 8) (1000, 8, 3, 3) (1000, 8, 3, 3)\n",
      "\n",
      "Step 19 in 20, disp = -0.8\n"
     ]
    },
    {
     "name": "stderr",
     "output_type": "stream",
     "text": [
      "[03-07 18:29:07][DEBUG] jax_fem: Before, l_2 res = 8.800000009592512, relative l_2 res = 1.0\n",
      "[03-07 18:29:07][DEBUG] jax_fem: Solving linear system...\n",
      "[03-07 18:29:07][DEBUG] jax_fem: JAX Solver - Solving linear system\n",
      "[03-07 18:29:08][DEBUG] jax_fem: JAX Solver - Finshed solving, res = 6.290848798427858e-10\n",
      "[03-07 18:29:08][DEBUG] jax_fem: Computing cell Jacobian and cell residual...\n",
      "[03-07 18:29:08][DEBUG] jax_fem: Function split_and_compute_cell took 0.1325 seconds\n",
      "[03-07 18:29:08][DEBUG] jax_fem: Creating sparse matrix with scipy...\n",
      "[03-07 18:29:08][DEBUG] jax_fem: l_2 res = 6.290848798868109e-10, relative l_2 res = 7.148691809103087e-11\n",
      "[03-07 18:29:08][INFO] jax_fem: Solve took 0.8872270584106445 [s]\n",
      "[03-07 18:29:08][DEBUG] jax_fem: max of dofs = 0.02605531492676433\n",
      "[03-07 18:29:08][DEBUG] jax_fem: min of dofs = -0.8\n"
     ]
    },
    {
     "name": "stdout",
     "output_type": "stream",
     "text": [
      "(1000, 8) (1000, 8, 3, 3) (1000, 8, 3, 3)\n"
     ]
    },
    {
     "data": {
      "image/png": "[encoded data removed]",
      "text/plain": [
       "<Figure size 1000x800 with 1 Axes>"
      ]
     },
     "metadata": {},
     "output_type": "display_data"
    }
   ],
   "source": [
    "# grain/aggregate params\n",
    "# change 0 to s for solid or silicate\n",
    "xi_crit = 8*1e-10 # critical rolling energy, 8 angstrom in m\n",
    "rho_0 = 2.65 * 1e3 / 1e6 # silicate, g/cm^3 in kg/m^3\n",
    "r0 = 0.1e-6 # monomer size, 0.1 micron in m\n",
    "gamma = 20*1e3 # surface energy, mJ/m^2 in J/m^2\n",
    "m0 = rho_0 * (4*np.pi)/3 * r0**3 # monomer mass in kg, silicate \n",
    "Eroll = 6*np.pi**2 * gamma * r0 * xi_crit # rolling energy \n",
    "phi_max = 0.78 # max volume filling factor\n",
    "\n",
    "# material params\n",
    "E_factor = 1.\n",
    "nu = 0.05\n",
    "rho_center = 0.01\n",
    "\n",
    "# file path and name \n",
    "test_num = 'field-test' \n",
    "solver_type = 'jax_solver'\n",
    "Nx, Ny, Nz = 10, 10, 10 # cells in a row\n",
    "N_cells = Nx*Ny*Nz\n",
    "steps = 20\n",
    "deform = 0.8\n",
    "dens = rho_center\n",
    "name = '80' # deformation percentage\n",
    "E_val = '1rho' # make this into an actual modifiable param\n",
    "data_dir = os.path.join(os.path.dirname('/home/elouan/Compression/'), f'density-model-{test_num}_{name}_{solver_type}_{dens}_{E_val}')\n",
    "\n",
    "# mesh generation\n",
    "ele_type = 'HEX8' # first-order hexahedron element\n",
    "cell_type = get_meshio_cell_type(ele_type)\n",
    "Lx, Ly, Lz = 1., 1., 1.\n",
    "meshio_mesh = box_mesh_gmsh(Nx=Nx, Ny=Ny, Nz=Nz, Lx=Lx, Ly=Ly, Lz=Lz, data_dir=data_dir, ele_type=ele_type)\n",
    "mesh = Mesh(meshio_mesh.points, meshio_mesh.cells_dict[cell_type])\n",
    "\n",
    "\n",
    "\n",
    "# Find node coordinates located at the boundaries\n",
    "def top(point):\n",
    "    return np.isclose(point[2], Lz, atol=1e-5)\n",
    "\n",
    "def bottom(point):\n",
    "    return np.isclose(point[2], 0., atol=1e-5)\n",
    "\n",
    "def center_x(point):\n",
    "    return np.isclose(point[0], Lx/2, atol = 1e-2)\n",
    "\n",
    "def center_y(point):\n",
    "    return np.isclose(point[1], Ly/2, atol = 1e-2)\n",
    "\n",
    "# def aggregate_center(point):\n",
    "#     # return nodes belonging to the center of the cube, which is 8% of the total volume\n",
    "#     center_cond = np.array([Lx/2, Ly/2,Lz/2])\n",
    "#     return np.isclose(point, center_cond, atol = 1e-1)\n",
    "\n",
    "# Define Dirichlet boundary values.\n",
    "# We fix the z-component of the displacement field to be zero on the 'bottom' side and control the z-component on the 'top' side.\n",
    "def dirichlet_val_bottom(point):\n",
    "    return 0.\n",
    "\n",
    "def get_dirichlet_top(disp):\n",
    "    def val_fn(point):\n",
    "        return disp\n",
    "    return val_fn\n",
    "\n",
    "\n",
    "def set_density(mesh, rho_center):\n",
    "    \"\"\"Generates a spherical density field with 1/r dependence for a mesh object. Normalised to rho_hi, the desired density in the center\n",
    "    of the material.\n",
    "\n",
    "    Args:\n",
    "        problem (_type_): _description_\n",
    "\n",
    "    Returns:\n",
    "        float, tracer array-like: array of shape ((1000, 8)) with the initial density field\n",
    "    \"\"\"\n",
    "    node_coords_cells = mesh.points[mesh.cells]\n",
    "    cell_centers = np.mean(node_coords_cells, axis=1)\n",
    "    material_center = np.mean(node_coords_cells)\n",
    "    rvec = cell_centers-material_center\n",
    "\n",
    "    # get norm of distance\n",
    "    r = np.linalg.norm(rvec, axis = 1)\n",
    "\n",
    "    # spherical density field\n",
    "    rho_scaling_factor = 1/r\n",
    "    max_rho_factor = np.max(rho_scaling_factor)\n",
    "    cell_density = (rho_center/max_rho_factor) * rho_scaling_factor\n",
    "    node_density = np.repeat(cell_density, 8).reshape((-1, 8))\n",
    "    print(node_density[0])\n",
    "\n",
    "    return node_density\n",
    "    \n",
    "def soundspeed(density):\n",
    "    \"\"\"Calculates the soundspeed for a 3D solid at each node in m/s as a function of density.\n",
    "\n",
    "    Args:\n",
    "        density (_type_): _description_\n",
    "\n",
    "    Returns:\n",
    "        _type_: _description_\n",
    "    \"\"\"\n",
    "    E = E_factor*density # E = constant * density\n",
    "    csp = np.sqrt((E*(1-nu)/(density*(1-2*nu)))) # soundspeed in a 3D solid\n",
    "\n",
    "    return csp\n",
    "\n",
    "# Set Dirichlet conditions\n",
    "disps = np.linspace(0.,-deform,steps) # compression in the z-dir\n",
    "location_fns = [center_x, center_y, bottom, top]\n",
    "value_fns = [dirichlet_val_bottom]*3 + [get_dirichlet_top(disps[0])]\n",
    "vecs = [0, 1, 2, 2]\n",
    "\n",
    "dirichlet_bc_info = [location_fns, vecs, value_fns]\n",
    "\n",
    "\n",
    "# Set density field\n",
    "# this is so bad and prone to errors! But I need it for now to handle the cell volume being < 1.\n",
    "density_init = set_density(mesh, rho_center)/(Nx * Ny * Nz)\n",
    "args = [density_init, E_factor, nu]\n",
    "\n",
    "# Initialise problem\n",
    "problem = Plasticity(mesh, vec=3, dim=3, dirichlet_bc_info=dirichlet_bc_info, additional_info=args)\n",
    "print(problem.density.shape)\n",
    "avg_stresses = []\n",
    "cell_vols = []\n",
    "mat_vol = []\n",
    "csps = []\n",
    "\n",
    "\n",
    "# Solve the problem\n",
    "for i, disp in enumerate(disps):\n",
    "    print(f\"\\nStep {i} in {len(disps)}, disp = {disp}\")\n",
    "\n",
    "    # update boundary conditions and density field\n",
    "    dirichlet_bc_info[-1][-1] = get_dirichlet_top(disp)\n",
    "    problem.fe.update_Dirichlet_boundary_conditions(dirichlet_bc_info)\n",
    "\n",
    "    # solve problem\n",
    "    sol_list = solver(problem, solver_options={f'{solver_type}': {}})\n",
    "\n",
    "    # save data: deformation and density\n",
    "    # to-do: add density to the file saver\n",
    "    vtk_path = os.path.join(data_dir, f'vtk/sol_{i:03d}.vtu')\n",
    "    vtk_rho_path = os.path.join(data_dir, f'vtk/rho_{i:03d}.vtu')\n",
    "    cell_mean_densities = np.mean(problem.density, axis=1)\n",
    "    save_sol(problem.fe, sol_list[0], vtk_path, cell_infos = [['density',cell_mean_densities]])\n",
    "    \n",
    "\n",
    "    # retrieve coordinates of the nodes grouped per cell\n",
    "    coords_cell_nodes = problem.fe.points[problem.fe.cells] + sol_list[0][problem.fe.cells]\n",
    "\n",
    "    # compute cell volumes with ConvexHull\n",
    "    cell_volume = np.zeros(N_cells)\n",
    "    for i in range(N_cells):\n",
    "        points = coords_cell_nodes[i]\n",
    "        hull = ConvexHull(points)\n",
    "        # cell volumes in this iteration\n",
    "        cell_volume = cell_volume.at[i].set(hull.volume) # simple item assignement doesn't work with jax aparently, hence this code line instead\n",
    "\n",
    "    # save volumes for each iteration to a list\n",
    "    cell_vols.append(cell_volume)\n",
    "    mat_vol = np.sum(cell_volume)\n",
    "\n",
    "    # uniform density\n",
    "    # density = np.repeat(density_init[0]*(1/cell_volume), 8).reshape((-1, 8))\n",
    "    \n",
    "    # calculate new density field\n",
    "    cell_volume = np.repeat(cell_volume, 8).reshape((-1, 8))\n",
    "    new_density = density_init*(1/cell_volume)\n",
    "    # print(cell_volume.shape)\n",
    "    # print(new_density.shape)\n",
    "    # print(new_density[0], new_density[970])\n",
    "\n",
    "    # calculate soundspeed with new density\n",
    "    csp = soundspeed(new_density)\n",
    "    csps.append(csp)\n",
    "\n",
    "    # update the stress, strain and density with the solution\n",
    "    problem.update_stress_strain_density(sol_list[0], new_density)\n",
    "    avg_stress = problem.compute_avg_stress()\n",
    "    avg_stresses.append(avg_stress)\n",
    "\n",
    "    \n",
    "avg_stresses = np.array(avg_stresses)\n",
    "\n",
    "\n",
    "# Plot the volume-averaged stress versus the vertical displacement of the top surface.\n",
    "fig = plt.figure(figsize=(10, 8))\n",
    "plt.plot(disps, avg_stresses[:, 2, 2], color='red', marker='o', markersize=8, linestyle='-') \n",
    "plt.xlabel(r'Displacement of top surface [m]', fontsize=20)\n",
    "plt.ylabel(r'Volume averaged stress (z-z) [Pa]', fontsize=20)\n",
    "plt.tick_params(labelsize=18)\n",
    "plt.savefig(f\"./density-model-{test_num}_{name}_{solver_type}_{dens}_{E_val}/stress-strain-{test_num}.png\")\n",
    "plt.show()\n",
    "\n",
    "\n"
   ]
  },
  {
   "cell_type": "code",
   "execution_count": 28,
   "metadata": {},
   "outputs": [
    {
     "data": {
      "text/plain": [
       "[<matplotlib.lines.Line2D at 0x7f59096b1700>]"
      ]
     },
     "execution_count": 28,
     "metadata": {},
     "output_type": "execute_result"
    },
    {
     "data": {
      "image/png": "[encoded data removed]",
      "text/plain": [
       "<Figure size 640x480 with 1 Axes>"
      ]
     },
     "metadata": {},
     "output_type": "display_data"
    }
   ],
   "source": [
    "csps = np.array(csps)\n",
    "csps[:,0,0]\n",
    "\n",
    "plt.plot(np.arange(1,21), csps[:,970,0])\n"
   ]
  },
  {
   "cell_type": "markdown",
   "metadata": {},
   "source": [
    "## Misc. and old code\n",
    "Why do the volumes stay the same throughout the deformation? Checked cell coordinates of the first cell, and they don't change --> the mesh doesn't warp thoughout the sim.\n",
    "\n",
    "Update: it works! I have the densities now :3"
   ]
  },
  {
   "cell_type": "code",
   "execution_count": null,
   "metadata": {},
   "outputs": [],
   "source": [
    "# # 1/r density field\n",
    "# \"\"\" why should density be defined on each node? (each cell has it's own set of nodes, they don't share them) \"\"\"\n",
    "# foo_dens = np.zeros((len(problem.fe.cells), problem.fe.num_quads))\n",
    "# print(foo_dens.shape)\n",
    "# coords_cell_nodes = problem.fe.points[problem.fe.cells]\n",
    "\n",
    "# # THIS DETERMINES THE DENSITY BASED ON The cell center\n",
    "# cell_centers=np.mean(coords_cell_nodes,axis=1)\n",
    "# material_center=np.mean(coords_cell_nodes)\n",
    "# rvec=cell_centers-material_center\n",
    "\n",
    "\n",
    "# #jax.vmap(np.linalg.norm)(rvec)\n",
    "# r=np.linalg.norm(rvec,axis=1)\n",
    "\n",
    "# # spherical density field which drops of as 1/r\n",
    "# density_init=1/r\n",
    "\n",
    "# # Uniform density field\n",
    "# rho_lo = 0.0001\n",
    "# rho_hi = 0.01\n",
    "\n",
    "# density_uni = [rho_lo* 1/(Nx * Ny * Nz), rho_hi * 1/(Nx * Ny * Nz)] # the extra factor is so that this will be the actual density, not the density x a factor from the grid size\n",
    "# density_uni_init = [rho_lo* 1/(Nx * Ny * Nz), rho_hi* 1/(Nx * Ny * Nz)] \n",
    "# args = [density_uni_init]\n",
    "\n",
    "# # Cell volumes\n",
    "# coords_cell_nodes = problem.fe.points[problem.fe.cells]\n",
    "\n",
    "# cell_vols = np.zeros(N_cells)\n",
    "# for i in range(N_cells):\n",
    "#     points = coords_cell_nodes[i]\n",
    "#     hull = ConvexHull(points)\n",
    "#     cell_vols = cell_vols.at[i].set(hull.volume) # simple item assignement doesn't work with jax aparently, hence this code line instead"
   ]
  }
 ],
 "metadata": {
  "kernelspec": {
   "display_name": "jax-fem-env",
   "language": "python",
   "name": "python3"
  },
  "language_info": {
   "codemirror_mode": {
    "name": "ipython",
    "version": 3
   },
   "file_extension": ".py",
   "mimetype": "text/x-python",
   "name": "python",
   "nbconvert_exporter": "python",
   "pygments_lexer": "ipython3",
   "version": "3.9.18"
  }
 },
 "nbformat": 4,
 "nbformat_minor": 2
}
