{
 "cells": [
  {
   "cell_type": "code",
   "execution_count": 1,
   "metadata": {},
   "outputs": [],
   "source": [
    "import dolfinx\n",
    "import numpy as np\n",
    "import ufl\n",
    "import pyvista"
   ]
  },
  {
   "cell_type": "markdown",
   "metadata": {},
   "source": [
    "### Formulating the variational problem"
   ]
  },
  {
   "cell_type": "code",
   "execution_count": 2,
   "metadata": {},
   "outputs": [
    {
     "name": "stdout",
     "output_type": "stream",
     "text": [
      "[  0   1   3   5   9  13  17  23  27  35  39  49  53  65  69  83  86  87\n",
      " 100 101 102 113 114 123 124 131 132 137 138 141 142 143]\n"
     ]
    }
   ],
   "source": [
    "from mpi4py import MPI # something something message passing system, for communication?\n",
    "from dolfinx import mesh, fem, io, plot, default_scalar_type\n",
    "\n",
    "\n",
    "# importing a built-in mesh \n",
    "# a uniform square mesh of 8x8 with quadrilateral cells \n",
    "# MPI tells you how to distribute the mesh data over your processors, that's relevant for later\n",
    "domain = mesh.create_unit_square(MPI.COMM_WORLD, 8, 8, mesh.CellType.quadrilateral)\n",
    "\n",
    "\n",
    "# create a FE function space V with the space initialiser dolfinx.fem\n",
    "fspace = fem.functionspace\n",
    "# the finite element family (Lagrange elements) and polynomial degree (1)\n",
    "V = fspace(domain, (\"Lagrange\", 1)) \n",
    "\n",
    "# set boundary data in the discrete trial space\n",
    "uD = fem.Function(V)\n",
    "uD.interpolate(lambda x: 1+ x[0]**2 + 2 * x[1]**2)\n",
    "\n",
    "# apply boundary values to all dofs that are on the boundary of the discrete domain\n",
    "# facets in 3D, line-segments in 2D\n",
    "tdim = domain.topology.dim # dimensionality of the domain (mesh) is stored here\n",
    "fdim = tdim -1 # facet dimension, one less than the mesh dim\n",
    "\n",
    "# finds the outer boundary facets and stores them\n",
    "domain.topology.create_connectivity(fdim, tdim) # so mapping from 1D to 2D\n",
    "boundary_facets = mesh.exterior_facet_indices(domain.topology)\n",
    "print(boundary_facets)\n",
    "\n",
    "# finding the local indices of the degrees of freedom and setting a Dirichlet boundary condition\n",
    "# Dirichlet = fixed solution values at the boundary of the domain\n",
    "boundary_dofs = fem.locate_dofs_topological(V, fdim, boundary_facets)\n",
    "bc = fem.dirichletbc(uD, boundary_dofs) # value = uD, dofs = boundary_dofs, V = V\n",
    "\n",
    "# print(boundary_dofs)\n"
   ]
  },
  {
   "cell_type": "code",
   "execution_count": 3,
   "metadata": {},
   "outputs": [],
   "source": [
    "# notations as in the tutorial\n",
    "u = ufl.TrialFunction(V)\n",
    "v = ufl.TestFunction(V)\n",
    "f = fem.Constant(domain, default_scalar_type(-6))\n",
    "a = ufl.dot(ufl.grad(u), ufl.grad(v)) * ufl.dx \n",
    "L = f * v * ufl.dx"
   ]
  },
  {
   "cell_type": "markdown",
   "metadata": {},
   "source": [
    "### Solving the problem"
   ]
  },
  {
   "cell_type": "code",
   "execution_count": 4,
   "metadata": {},
   "outputs": [
    {
     "name": "stdout",
     "output_type": "stream",
     "text": [
      "Error_L2 : 8.24e-03\n",
      "Error_max : 3.55e-15\n"
     ]
    }
   ],
   "source": [
    "from dolfinx.fem.petsc import LinearProblem\n",
    "\n",
    "# lu is the solver, ksp_type is smt.\n",
    "problem = LinearProblem(a, L, bcs = [bc], petsc_options={\"ksp_type\": \"preonly\", \"pc_type\": \"lu\"})\n",
    "uh = problem.solve() # the discrete solution uh as defined in the theory\n",
    "\n",
    "# computing the error in two ways\n",
    "V2 = fem.functionspace(domain, (\"Lagrange\", 2))\n",
    "uex = fem.Function(V2)\n",
    "uex.interpolate(lambda x: 1 + x[0]**2 + 2 * x[1]**2)\n",
    "\n",
    "# L2 norm error - basically how much your trial func at the boundary \n",
    "# differs from the actual boundary condition\n",
    "L2_error = fem.form(ufl.inner(uh - uex, uh - uex) * ufl.dx)\n",
    "error_local = fem.assemble_scalar(L2_error)\n",
    "error_L2 = np.sqrt(domain.comm.allreduce(error_local, op=MPI.SUM))\n",
    "\n",
    "# errors on the dofs\n",
    "error_max = np.max(np.abs(uD.x.array-uh.x.array))\n",
    "\n",
    "# Only print the error on one process\n",
    "if domain.comm.rank == 0:\n",
    "    print(f\"Error_L2 : {error_L2:.2e}\")\n",
    "    print(f\"Error_max : {error_max:.2e}\")"
   ]
  },
  {
   "cell_type": "markdown",
   "metadata": {},
   "source": [
    "## Plotting the outcomes"
   ]
  },
  {
   "cell_type": "code",
   "execution_count": 5,
   "metadata": {},
   "outputs": [
    {
     "name": "stdout",
     "output_type": "stream",
     "text": [
      "trame\n",
      "UnstructuredGrid (0x7b478d9c95a0)\n",
      "  N Cells:    64\n",
      "  N Points:   81\n",
      "  X Bounds:   0.000e+00, 1.000e+00\n",
      "  Y Bounds:   0.000e+00, 1.000e+00\n",
      "  Z Bounds:   0.000e+00, 0.000e+00\n",
      "  N Arrays:   0\n"
     ]
    }
   ],
   "source": [
    "# pyvista.set_jupyter_backend(html)\n",
    "print(pyvista.global_theme.jupyter_backend)\n",
    "pyvista.start_xvfb()\n",
    "domain.topology.create_connectivity(tdim, tdim)\n",
    "\n",
    "# converting the mesh to a format that can be used with pyvista\n",
    "# we create a mesh with \n",
    "# note to self: domain is prob. what we want to plot, see if I can load it into another visualizer\n",
    "topology, cell_types, geometry = plot.vtk_mesh(domain, tdim)\n",
    "grid = pyvista.UnstructuredGrid(topology, cell_types, geometry)\n",
    "\n",
    "print(grid)\n",
    "\n",
    "# pyvista.Report(gpu=True)"
   ]
  },
  {
   "cell_type": "markdown",
   "metadata": {},
   "source": [
    "Mesh plot"
   ]
  },
  {
   "cell_type": "code",
   "execution_count": 6,
   "metadata": {},
   "outputs": [
    {
     "data": {
      "application/vnd.jupyter.widget-view+json": {
       "model_id": "950f269db58f40ffad02e26b41467cf3",
       "version_major": 2,
       "version_minor": 0
      },
      "text/plain": [
       "Widget(value='<iframe src=\"http://localhost:35893/index.html?ui=P_0x7b4667005e80_0&reconnect=auto\" class=\"pyvi…"
      ]
     },
     "metadata": {},
     "output_type": "display_data"
    }
   ],
   "source": [
    "plotter = pyvista.Plotter(notebook=True)\n",
    "plotter.add_mesh(grid, show_edges=True)\n",
    "plotter.view_xy()\n",
    "#figure = plotter.screenshot(\"fundamentals_mesh.png\")\n",
    "if not pyvista.OFF_SCREEN:\n",
    "    plotter.show()\n",
    "else:\n",
    "    figure = plotter.screenshot(\"fundamentals_mesh.png\")"
   ]
  },
  {
   "cell_type": "markdown",
   "metadata": {},
   "source": []
  },
  {
   "cell_type": "code",
   "execution_count": null,
   "metadata": {},
   "outputs": [],
   "source": []
  }
 ],
 "metadata": {
  "kernelspec": {
   "display_name": "fenicsx-env",
   "language": "python",
   "name": "python3"
  },
  "language_info": {
   "codemirror_mode": {
    "name": "ipython",
    "version": 3
   },
   "file_extension": ".py",
   "mimetype": "text/x-python",
   "name": "python",
   "nbconvert_exporter": "python",
   "pygments_lexer": "ipython3",
   "version": "3.13.0"
  }
 },
 "nbformat": 4,
 "nbformat_minor": 2
}
